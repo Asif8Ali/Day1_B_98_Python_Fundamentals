{
 "cells": [
  {
   "cell_type": "code",
   "execution_count": null,
   "id": "307e7790-5dcb-4b2e-ba1d-61f31221d82b",
   "metadata": {},
   "outputs": [],
   "source": [
    "Continuation with string datatype:"
   ]
  },
  {
   "cell_type": "code",
   "execution_count": null,
   "id": "e11e1455-144c-4857-885a-151de5b4acc2",
   "metadata": {},
   "outputs": [],
   "source": []
  },
  {
   "cell_type": "code",
   "execution_count": 1,
   "id": "7c85a39b-7e2a-4ecf-9b69-5b841d5c849f",
   "metadata": {},
   "outputs": [
    {
     "name": "stdout",
     "output_type": "stream",
     "text": [
      "Asif\n"
     ]
    }
   ],
   "source": [
    "name = \"Asif\"\n",
    "\n",
    "print(name)"
   ]
  },
  {
   "cell_type": "code",
   "execution_count": null,
   "id": "b13b127e-2d30-4b21-8e41-9ea57f2b544a",
   "metadata": {},
   "outputs": [],
   "source": []
  },
  {
   "cell_type": "code",
   "execution_count": 2,
   "id": "2b0eb484-88de-4cd5-b097-5564305e5ddd",
   "metadata": {},
   "outputs": [
    {
     "data": {
      "text/plain": [
       "str"
      ]
     },
     "execution_count": 2,
     "metadata": {},
     "output_type": "execute_result"
    }
   ],
   "source": [
    "type(name)"
   ]
  },
  {
   "cell_type": "code",
   "execution_count": 5,
   "id": "04df882f-4fe8-4255-9566-ea027fb7baa7",
   "metadata": {},
   "outputs": [
    {
     "name": "stdout",
     "output_type": "stream",
     "text": [
      "asif ali\n"
     ]
    }
   ],
   "source": [
    "fullname = \"asif ali\"\n",
    "\n",
    "print(fullname)"
   ]
  },
  {
   "cell_type": "code",
   "execution_count": 6,
   "id": "5a2283f8-9d1d-4a17-8901-96ee2c4a57c5",
   "metadata": {},
   "outputs": [
    {
     "name": "stdout",
     "output_type": "stream",
     "text": [
      "Asif Ali\n"
     ]
    }
   ],
   "source": [
    "print(fullname.title())"
   ]
  },
  {
   "cell_type": "code",
   "execution_count": null,
   "id": "769449e4-b805-4580-8816-5422ddba21be",
   "metadata": {},
   "outputs": [],
   "source": [
    "#  i  want to get the fullname in the capital letters"
   ]
  },
  {
   "cell_type": "code",
   "execution_count": 7,
   "id": "62967bd6-1704-412b-9f7b-8529d02148b6",
   "metadata": {},
   "outputs": [
    {
     "name": "stdout",
     "output_type": "stream",
     "text": [
      "ASIF ALI\n"
     ]
    }
   ],
   "source": [
    "print(fullname.upper())"
   ]
  },
  {
   "cell_type": "code",
   "execution_count": null,
   "id": "691d6957-261d-4162-8112-20be9ac88109",
   "metadata": {},
   "outputs": [],
   "source": [
    "# i wnat to get the fullname in the smallcase letter"
   ]
  },
  {
   "cell_type": "code",
   "execution_count": 8,
   "id": "4539a63e-8273-424f-b294-f4d29081c682",
   "metadata": {},
   "outputs": [
    {
     "name": "stdout",
     "output_type": "stream",
     "text": [
      "asif ali\n"
     ]
    }
   ],
   "source": [
    "print(fullname.lower())"
   ]
  },
  {
   "cell_type": "code",
   "execution_count": null,
   "id": "358214e5-156a-4e94-b04e-362d4b02ad9d",
   "metadata": {},
   "outputs": [],
   "source": [
    "introduction of f strings:"
   ]
  },
  {
   "cell_type": "code",
   "execution_count": null,
   "id": "14a64842-87e8-400a-99e5-040a23c1ddf1",
   "metadata": {},
   "outputs": [],
   "source": [
    "general syntax of f strings"
   ]
  },
  {
   "cell_type": "code",
   "execution_count": null,
   "id": "dbfa7161-556c-48b4-815a-df7694e5510d",
   "metadata": {},
   "outputs": [],
   "source": []
  },
  {
   "cell_type": "code",
   "execution_count": 15,
   "id": "863c5c2c-dca1-4752-a31d-189ead8923eb",
   "metadata": {},
   "outputs": [],
   "source": [
    "firstname = \"King\"\n",
    "\n",
    "lastname = \"khan\""
   ]
  },
  {
   "cell_type": "code",
   "execution_count": null,
   "id": "17fd1f89-7881-431d-9e68-8c6d8c1fddc7",
   "metadata": {},
   "outputs": [],
   "source": [
    "#  i want to get the fullname"
   ]
  },
  {
   "cell_type": "code",
   "execution_count": 16,
   "id": "d849f700-e563-4708-9182-f6e022c729b8",
   "metadata": {},
   "outputs": [
    {
     "name": "stdout",
     "output_type": "stream",
     "text": [
      "King khan\n"
     ]
    }
   ],
   "source": [
    "fullname = f\"{firstname} {lastname}\"\n",
    "print(fullname)"
   ]
  },
  {
   "cell_type": "code",
   "execution_count": null,
   "id": "2ea04616-fb38-404c-acf5-8bf479eb9ff7",
   "metadata": {},
   "outputs": [],
   "source": [
    "#  req:"
   ]
  },
  {
   "cell_type": "code",
   "execution_count": 17,
   "id": "c899c4e9-2b07-4d64-937e-ea44ce464d9a",
   "metadata": {},
   "outputs": [
    {
     "name": "stdout",
     "output_type": "stream",
     "text": [
      "keep up the good work,King Khan\n"
     ]
    }
   ],
   "source": [
    "message = f\"keep up the good work,{fullname.title()}\"\n",
    "\n",
    "print(message)"
   ]
  },
  {
   "cell_type": "code",
   "execution_count": null,
   "id": "87cf364b-38bd-43fb-8a0a-d2071ce8ac36",
   "metadata": {},
   "outputs": [],
   "source": []
  },
  {
   "cell_type": "code",
   "execution_count": null,
   "id": "427f6c9e-0804-4d3f-a01d-7e8b27bdb58b",
   "metadata": {},
   "outputs": [],
   "source": [
    "adding whitespace to strings :"
   ]
  },
  {
   "cell_type": "code",
   "execution_count": 18,
   "id": "aa3a816d-f26f-471b-ad1d-20a898e0997c",
   "metadata": {},
   "outputs": [
    {
     "name": "stdout",
     "output_type": "stream",
     "text": [
      "favourite_programming:Pythonjavac++javascriptswigt\n"
     ]
    }
   ],
   "source": [
    "print(\"favourite_programming:Pythonjavac++javascriptswigt\")"
   ]
  },
  {
   "cell_type": "code",
   "execution_count": 20,
   "id": "d6e9bf80-0d6d-4430-8494-ba82ad785694",
   "metadata": {},
   "outputs": [
    {
     "name": "stdout",
     "output_type": "stream",
     "text": [
      "favourite_programming:\n",
      "Python\n",
      "java\n",
      "c++\n",
      "javascript\n",
      "swift\n"
     ]
    }
   ],
   "source": [
    "print(\"favourite_programming:\\nPython\\njava\\nc++\\njavascript\\nswift\") #\\n ----> new line delimiter"
   ]
  },
  {
   "cell_type": "code",
   "execution_count": 21,
   "id": "23a4d8f3-2a80-4b30-8582-6b4fe4e7b40e",
   "metadata": {},
   "outputs": [
    {
     "name": "stdout",
     "output_type": "stream",
     "text": [
      "favourite_programming:\n",
      "\tPython\n",
      "\tjava\n",
      "\tc++\n",
      "\tjavascript\n",
      "\tswift\n"
     ]
    }
   ],
   "source": [
    "print(\"favourite_programming:\\n\\tPython\\n\\tjava\\n\\tc++\\n\\tjavascript\\n\\tswift\") #\\t ----> tab delimiter"
   ]
  },
  {
   "cell_type": "code",
   "execution_count": null,
   "id": "c8cc621f-2d00-4846-97a9-a3d0b286aa28",
   "metadata": {},
   "outputs": [],
   "source": []
  },
  {
   "cell_type": "code",
   "execution_count": null,
   "id": "60d3fbc9-132a-4f7d-854a-313b1590e13d",
   "metadata": {},
   "outputs": [],
   "source": []
  },
  {
   "cell_type": "code",
   "execution_count": null,
   "id": "26f78db1-fcc2-4653-9b26-cc0ee143b4b8",
   "metadata": {},
   "outputs": [],
   "source": []
  },
  {
   "cell_type": "code",
   "execution_count": null,
   "id": "e6aa0456-6ece-4727-a088-30fd557b60ef",
   "metadata": {},
   "outputs": [],
   "source": []
  },
  {
   "cell_type": "code",
   "execution_count": null,
   "id": "454601c3-b4ff-4faf-b42f-62d76e47d668",
   "metadata": {},
   "outputs": [],
   "source": []
  },
  {
   "cell_type": "code",
   "execution_count": null,
   "id": "36b913c1-255c-4c91-8df6-16da910c217c",
   "metadata": {},
   "outputs": [],
   "source": []
  }
 ],
 "metadata": {
  "kernelspec": {
   "display_name": "Python [conda env:base] *",
   "language": "python",
   "name": "conda-base-py"
  },
  "language_info": {
   "codemirror_mode": {
    "name": "ipython",
    "version": 3
   },
   "file_extension": ".py",
   "mimetype": "text/x-python",
   "name": "python",
   "nbconvert_exporter": "python",
   "pygments_lexer": "ipython3",
   "version": "3.13.5"
  }
 },
 "nbformat": 4,
 "nbformat_minor": 5
}
