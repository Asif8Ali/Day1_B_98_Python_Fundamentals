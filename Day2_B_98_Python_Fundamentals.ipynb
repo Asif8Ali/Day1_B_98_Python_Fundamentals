{
 "cells": [
  {
   "cell_type": "code",
   "execution_count": null,
   "id": "de6e4805-27f7-47cf-b7af-b2c75d85f193",
   "metadata": {},
   "outputs": [],
   "source": [
    "Introduction pyhthon training programme"
   ]
  },
  {
   "cell_type": "code",
   "execution_count": null,
   "id": "0fb80378-1d7e-4792-a3d5-cd028a180a93",
   "metadata": {},
   "outputs": [],
   "source": []
  },
  {
   "cell_type": "code",
   "execution_count": null,
   "id": "934bf380-8e1d-4c81-8cff-691b956a09af",
   "metadata": {},
   "outputs": [],
   "source": [
    "Understanding the variables in python : "
   ]
  },
  {
   "cell_type": "code",
   "execution_count": null,
   "id": "7cf79406-2a91-4423-9693-61c6ae02bc29",
   "metadata": {},
   "outputs": [],
   "source": []
  },
  {
   "cell_type": "code",
   "execution_count": 13,
   "id": "3e2b1afa-9ef5-49d4-8cab-847eade71a0e",
   "metadata": {},
   "outputs": [],
   "source": [
    "num1 = 3\n",
    "num2 = 4"
   ]
  },
  {
   "cell_type": "code",
   "execution_count": 14,
   "id": "5a5b6139-7f71-420d-ba92-172a8428f849",
   "metadata": {},
   "outputs": [
    {
     "name": "stdout",
     "output_type": "stream",
     "text": [
      "7\n"
     ]
    }
   ],
   "source": [
    "result = num1+num2\n",
    "print(result)"
   ]
  },
  {
   "cell_type": "code",
   "execution_count": null,
   "id": "c3157bd9-b546-4761-95c7-3b8b2b802359",
   "metadata": {},
   "outputs": [],
   "source": [
    "# shift + enter button on keyboard to submit\n"
   ]
  },
  {
   "cell_type": "code",
   "execution_count": null,
   "id": "4aa41c15-f12b-45e2-81b8-4505c23e7c20",
   "metadata": {},
   "outputs": [],
   "source": [
    "Rules for declaring the variables in python:\n",
    "Rule No 1: No Namespace for declaring the variables names"
   ]
  },
  {
   "cell_type": "code",
   "execution_count": 15,
   "id": "5b1cb853-d281-4754-b4c8-7c6a726d2c27",
   "metadata": {},
   "outputs": [
    {
     "ename": "SyntaxError",
     "evalue": "invalid syntax (1529493019.py, line 1)",
     "output_type": "error",
     "traceback": [
      "\u001b[1;36m  Cell \u001b[1;32mIn[15], line 1\u001b[1;36m\u001b[0m\n\u001b[1;33m    first name = \"Asif\"\u001b[0m\n\u001b[1;37m          ^\u001b[0m\n\u001b[1;31mSyntaxError\u001b[0m\u001b[1;31m:\u001b[0m invalid syntax\n"
     ]
    }
   ],
   "source": [
    "first name = \"Asif\"\n",
    "\n",
    "print(first name)"
   ]
  },
  {
   "cell_type": "code",
   "execution_count": 16,
   "id": "4d9bf04a-c845-4d46-a702-7a80951ac34f",
   "metadata": {},
   "outputs": [
    {
     "name": "stdout",
     "output_type": "stream",
     "text": [
      "Asif\n"
     ]
    }
   ],
   "source": [
    "firstname = \"Asif\"\n",
    "\n",
    "print(firstname)"
   ]
  },
  {
   "cell_type": "code",
   "execution_count": null,
   "id": "f9878e22-add3-49ca-90f1-908b590a8fe5",
   "metadata": {},
   "outputs": [],
   "source": [
    "Rule no 2: A variable name should not start with number "
   ]
  },
  {
   "cell_type": "code",
   "execution_count": 17,
   "id": "7bb11566-e531-433c-8978-17bda138e078",
   "metadata": {},
   "outputs": [
    {
     "ename": "SyntaxError",
     "evalue": "invalid decimal literal (1774645179.py, line 1)",
     "output_type": "error",
     "traceback": [
      "\u001b[1;36m  Cell \u001b[1;32mIn[17], line 1\u001b[1;36m\u001b[0m\n\u001b[1;33m    1name = \"khan\"\u001b[0m\n\u001b[1;37m    ^\u001b[0m\n\u001b[1;31mSyntaxError\u001b[0m\u001b[1;31m:\u001b[0m invalid decimal literal\n"
     ]
    }
   ],
   "source": [
    "1name = \"khan\"\n",
    "\n",
    "print(1name)"
   ]
  },
  {
   "cell_type": "code",
   "execution_count": 18,
   "id": "0c8e3aa2-7ab5-4777-8d3f-3ccb0540e0b2",
   "metadata": {},
   "outputs": [
    {
     "name": "stdout",
     "output_type": "stream",
     "text": [
      "khan\n"
     ]
    }
   ],
   "source": [
    "name1 = \"khan\"\n",
    "\n",
    "print(name1)"
   ]
  },
  {
   "cell_type": "code",
   "execution_count": null,
   "id": "30e00e7e-0f63-428d-9445-17a6aee36f8e",
   "metadata": {},
   "outputs": [],
   "source": [
    "Rule No 3: A variable name should not contains any special characters"
   ]
  },
  {
   "cell_type": "code",
   "execution_count": 19,
   "id": "da2c59e6-d10f-4648-8166-d68dd0bc754b",
   "metadata": {},
   "outputs": [
    {
     "ename": "SyntaxError",
     "evalue": "invalid syntax (2001096330.py, line 1)",
     "output_type": "error",
     "traceback": [
      "\u001b[1;36m  Cell \u001b[1;32mIn[19], line 1\u001b[1;36m\u001b[0m\n\u001b[1;33m    name@ = \"Danish\"\u001b[0m\n\u001b[1;37m          ^\u001b[0m\n\u001b[1;31mSyntaxError\u001b[0m\u001b[1;31m:\u001b[0m invalid syntax\n"
     ]
    }
   ],
   "source": [
    "name@ = \"Danish\"\n",
    "\n",
    "print(namne@)"
   ]
  },
  {
   "cell_type": "code",
   "execution_count": null,
   "id": "2f3eb174-a6dd-456d-adce-d80f6aa50540",
   "metadata": {},
   "outputs": [],
   "source": [
    "special characters are --> #,@,! ,$ ,% ,^, &, *, ( ,),etc"
   ]
  },
  {
   "cell_type": "code",
   "execution_count": null,
   "id": "046be468-f8d6-4c78-be9c-c009e74e56db",
   "metadata": {},
   "outputs": [],
   "source": []
  },
  {
   "cell_type": "code",
   "execution_count": null,
   "id": "dcdb8b67-f70f-4115-ab5b-9e9758cdea8f",
   "metadata": {},
   "outputs": [],
   "source": [
    "Introduction to database in python :"
   ]
  },
  {
   "cell_type": "code",
   "execution_count": null,
   "id": "66ed8cee-c4cb-41d9-9496-1635d243eb20",
   "metadata": {},
   "outputs": [],
   "source": [
    "1. strings ---> str"
   ]
  },
  {
   "cell_type": "code",
   "execution_count": null,
   "id": "f216464d-3a84-403d-bc9e-678698c4e2d0",
   "metadata": {},
   "outputs": [],
   "source": [
    "2. Numbers --> integers -- int, float (decimals numbers) ---> 22.88,etc"
   ]
  },
  {
   "cell_type": "code",
   "execution_count": null,
   "id": "92abe6e3-5d3a-4d0e-81e7-6d2b8954a117",
   "metadata": {},
   "outputs": [],
   "source": [
    "3. Lists ----> list"
   ]
  },
  {
   "cell_type": "code",
   "execution_count": null,
   "id": "8b6a8e47-1663-4623-8db3-4973bc2b9b8e",
   "metadata": {},
   "outputs": [],
   "source": [
    "4. tuples -----> tuple"
   ]
  },
  {
   "cell_type": "code",
   "execution_count": null,
   "id": "47162618-ec40-48e0-8fc5-ed078c176b6a",
   "metadata": {},
   "outputs": [],
   "source": [
    "5. Dictionaries ---> dict"
   ]
  },
  {
   "cell_type": "code",
   "execution_count": null,
   "id": "934d80a9-4573-4b8d-b43c-14c0ed506514",
   "metadata": {},
   "outputs": [],
   "source": []
  },
  {
   "cell_type": "code",
   "execution_count": null,
   "id": "64cd8fb9-f462-42bf-844a-f6393696b732",
   "metadata": {},
   "outputs": [],
   "source": [
    "Clarification of datatypes:\n",
    "\n",
    "Broadly datatypes are classified into two categories\n",
    "\n",
    "1. mutable datatypes ----> which we can be able to edit/alter\n",
    "2. immutable datatypes ---> which we cannot be able to edit/alter"
   ]
  },
  {
   "cell_type": "code",
   "execution_count": null,
   "id": "2195071d-1711-4905-bb18-6f1160f95525",
   "metadata": {},
   "outputs": [],
   "source": []
  },
  {
   "cell_type": "code",
   "execution_count": null,
   "id": "4dd4a5f2-b743-47b1-af36-fe6db3084e6e",
   "metadata": {},
   "outputs": [],
   "source": [
    "Introduction to string datatype:"
   ]
  },
  {
   "cell_type": "code",
   "execution_count": null,
   "id": "3497f078-55e1-4510-b59e-2beacf4035bd",
   "metadata": {},
   "outputs": [],
   "source": [
    "Defination: A string is a series of characters declared in quotes.\n",
    "\n",
    "classification : it is classified as an immutable datatype\n",
    "\n",
    "how to declare the string?\n",
    "1. single quote ---> 'Asif'\n",
    "2. double quote ----> \"Asif\""
   ]
  },
  {
   "cell_type": "code",
   "execution_count": null,
   "id": "40e20f09-68cc-489c-8cc8-0976fecf584c",
   "metadata": {},
   "outputs": [],
   "source": []
  },
  {
   "cell_type": "code",
   "execution_count": null,
   "id": "fed55406-5338-491d-83eb-4f9a9a4241b9",
   "metadata": {},
   "outputs": [],
   "source": []
  },
  {
   "cell_type": "code",
   "execution_count": null,
   "id": "72b409f1-a666-4c89-becd-cf82e196e4a7",
   "metadata": {},
   "outputs": [],
   "source": []
  },
  {
   "cell_type": "code",
   "execution_count": null,
   "id": "7859c72a-d59a-42e3-b269-3dfb2fdf8b14",
   "metadata": {},
   "outputs": [],
   "source": []
  },
  {
   "cell_type": "code",
   "execution_count": null,
   "id": "224532a0-f231-4c07-8ec9-39aa99efaf32",
   "metadata": {},
   "outputs": [],
   "source": []
  },
  {
   "cell_type": "code",
   "execution_count": null,
   "id": "32b5610a-1f36-4adc-9e23-4dc8163730d9",
   "metadata": {},
   "outputs": [],
   "source": []
  },
  {
   "cell_type": "code",
   "execution_count": null,
   "id": "1acbf917-4449-42bd-90b7-15aa5d50d92a",
   "metadata": {},
   "outputs": [],
   "source": []
  }
 ],
 "metadata": {
  "kernelspec": {
   "display_name": "Python [conda env:base] *",
   "language": "python",
   "name": "conda-base-py"
  },
  "language_info": {
   "codemirror_mode": {
    "name": "ipython",
    "version": 3
   },
   "file_extension": ".py",
   "mimetype": "text/x-python",
   "name": "python",
   "nbconvert_exporter": "python",
   "pygments_lexer": "ipython3",
   "version": "3.13.5"
  }
 },
 "nbformat": 4,
 "nbformat_minor": 5
}
